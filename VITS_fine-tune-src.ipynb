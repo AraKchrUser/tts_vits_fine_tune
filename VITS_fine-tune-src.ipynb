{
 "cells": [
  {
   "cell_type": "markdown",
   "id": "3d3686be",
   "metadata": {},
   "source": [
    "https://github.com/coqui-ai/TTS/discussions/1859\n",
    "\n",
    "https://github.com/coqui-ai/TTS/pull/2229"
   ]
  },
  {
   "cell_type": "code",
   "execution_count": 1,
   "id": "d7701b94",
   "metadata": {
    "ExecuteTime": {
     "end_time": "2023-04-05T18:35:53.053186Z",
     "start_time": "2023-04-05T18:35:53.036166Z"
    }
   },
   "outputs": [],
   "source": [
    "# !pip install TTS\n",
    "# !pip install numpy==1.20\n",
    "# !pip install numba==0.53\n",
    "# !pip install torch==1.12.1\n",
    "# !pip install librosa==0.8.0\n",
    "# !pip install Unidecode phonemizer\n",
    "# !apt-get install espeak"
   ]
  },
  {
   "cell_type": "code",
   "execution_count": 3,
   "id": "119a1e04",
   "metadata": {
    "ExecuteTime": {
     "end_time": "2023-04-05T18:39:27.500885Z",
     "start_time": "2023-04-05T18:39:27.494893Z"
    }
   },
   "outputs": [],
   "source": [
    "import json\n",
    "import warnings\n",
    "import logging\n",
    "logging.getLogger('numba').setLevel(logging.WARNING)\n",
    "warnings.filterwarnings('ignore')"
   ]
  },
  {
   "cell_type": "code",
   "execution_count": 2,
   "id": "52682ec8",
   "metadata": {
    "ExecuteTime": {
     "end_time": "2023-04-05T18:35:55.119458Z",
     "start_time": "2023-04-05T18:35:54.080945Z"
    }
   },
   "outputs": [
    {
     "name": "stdout",
     "output_type": "stream",
     "text": [
      "Wed Apr 05 21:35:55 2023       \n",
      "+-----------------------------------------------------------------------------+\n",
      "| NVIDIA-SMI 451.67       Driver Version: 451.67       CUDA Version: 11.0     |\n",
      "|-------------------------------+----------------------+----------------------+\n",
      "| GPU  Name            TCC/WDDM | Bus-Id        Disp.A | Volatile Uncorr. ECC |\n",
      "| Fan  Temp  Perf  Pwr:Usage/Cap|         Memory-Usage | GPU-Util  Compute M. |\n",
      "|===============================+======================+======================|\n",
      "|   0  GeForce GTX 165... WDDM  | 00000000:01:00.0 Off |                  N/A |\n",
      "| N/A   37C    P8     6W /  N/A |    134MiB /  4096MiB |      0%      Default |\n",
      "+-------------------------------+----------------------+----------------------+\n",
      "                                                                               \n",
      "+-----------------------------------------------------------------------------+\n",
      "| Processes:                                                                  |\n",
      "|  GPU   GI   CI        PID   Type   Process name                  GPU Memory |\n",
      "|        ID   ID                                                   Usage      |\n",
      "|=============================================================================|\n",
      "|    0   N/A  N/A      8392    C+G   C:\\Windows\\explorer.exe         N/A      |\n",
      "+-----------------------------------------------------------------------------+\n"
     ]
    }
   ],
   "source": [
    "!nvidia-smi"
   ]
  },
  {
   "cell_type": "code",
   "execution_count": null,
   "id": "95cf211d",
   "metadata": {},
   "outputs": [],
   "source": [
    "!git clone https://github.com/jaywalnut310/vits\n",
    "%cd vits"
   ]
  },
  {
   "cell_type": "code",
   "execution_count": null,
   "id": "5e62258a",
   "metadata": {},
   "outputs": [],
   "source": [
    "# не устанавливать pytorch из requirements\n",
    "!pip install -r requirements.txt"
   ]
  },
  {
   "cell_type": "code",
   "execution_count": null,
   "id": "8000ea5e",
   "metadata": {},
   "outputs": [],
   "source": [
    "%cd monotonic_align\n",
    "!python setup.py build_ext --inplace\n",
    "%cd .."
   ]
  },
  {
   "cell_type": "code",
   "execution_count": null,
   "id": "2430065c",
   "metadata": {},
   "outputs": [],
   "source": [
    "#@title Mount Google Drive\n",
    "from google.colab import drive\n",
    "drive.mount('/content/drive')\n",
    "#@title Download pre-trained model\n",
    "!wget -nc -P ../vits-finetune/checkpoints https://huggingface.co/spaces/sayashi/vits-uma-genshin-honkai/resolve/main/model/G_0.pth\n",
    "!wget -nc -P ../vits-finetune/checkpoints https://huggingface.co/spaces/sayashi/vits-uma-genshin-honkai/resolve/main/model/D_0.pth"
   ]
  },
  {
   "cell_type": "code",
   "execution_count": null,
   "id": "07986323",
   "metadata": {},
   "outputs": [],
   "source": [
    "!python preprocess.py --filelists /content/vits/filelists/ljs_audio_text_test_filelist.txt --out_extension \"new_cleaned\""
   ]
  },
  {
   "cell_type": "code",
   "execution_count": null,
   "id": "2c27aab4",
   "metadata": {},
   "outputs": [],
   "source": [
    "batchsize = 16\n",
    "training_files = \"/content/vits/filelists/ljs_audio_text_test_filelist.txt.new_cleaned\"\n",
    "validation_files = \"/content/vits/filelists/ljs_audio_text_test_filelist.txt.new_cleaned\"\n",
    "config = json.load(open(\"configs/ljs_base.json\"))\n",
    "config['train']['batch_size'] = batchsize\n",
    "config['data']['training_files'] = training_files\n",
    "config['data']['validation_files'] = validation_files\n",
    "with open(\"configs/config.json\", 'w+') as f:\n",
    "    json.dump(config, f, indent=4)"
   ]
  },
  {
   "cell_type": "code",
   "execution_count": null,
   "id": "6834bbe8",
   "metadata": {},
   "outputs": [],
   "source": [
    "!python -c 'from TTS.utils.downloaders import download_ljspeech; download_ljspeech(\"../recipes/ljspeech/\");'\n",
    "!ln -s ../recipes/ljspeech/LJSpeech-1.1/wavs DUMMY1"
   ]
  },
  {
   "cell_type": "markdown",
   "id": "b0a8ebed",
   "metadata": {},
   "source": [
    "В `train.py` есть строка `utils.load_checkpoint(utils.latest_checkpoint_path(hps.model_dir, \"G_*.pth\"), net_g, optim_g)`, где происходит загрузка предварительно обученных моделей. Будем передавать путь к папке с параметрами моделей через аргумент `-m`. Также для удобства заменим строку 140 на:\n",
    "\n",
    "`for batch_idx, (x, x_lengths, spec, spec_lengths, y, y_lengths) in enumerate(tqdm(train_loader)):`\n",
    "\n",
    "Если параметры хранятся в `../drive/MyDrive/vits-finetune/checkpoints`, тогда выполним замену в файле `utils.py` строку 152 на:  \n",
    "  \n",
    "  `model_dir = \"../drive/MyDrive/vits-finetune\"`\n",
    "  `model_dir = os.path.join(model_dir, args.model)`\n",
    "  \n",
    " "
   ]
  },
  {
   "cell_type": "code",
   "execution_count": null,
   "id": "3b1d4f9b",
   "metadata": {},
   "outputs": [],
   "source": [
    "# fine-tune\n",
    "!python train.py -c configs/config.json -m checkpoints"
   ]
  },
  {
   "cell_type": "code",
   "execution_count": null,
   "id": "45caf356",
   "metadata": {},
   "outputs": [],
   "source": []
  }
 ],
 "metadata": {
  "kernelspec": {
   "display_name": "Python 3 (ipykernel)",
   "language": "python",
   "name": "python3"
  },
  "language_info": {
   "codemirror_mode": {
    "name": "ipython",
    "version": 3
   },
   "file_extension": ".py",
   "mimetype": "text/x-python",
   "name": "python",
   "nbconvert_exporter": "python",
   "pygments_lexer": "ipython3",
   "version": "3.10.6"
  },
  "toc": {
   "base_numbering": 1,
   "nav_menu": {},
   "number_sections": true,
   "sideBar": true,
   "skip_h1_title": false,
   "title_cell": "Table of Contents",
   "title_sidebar": "Contents",
   "toc_cell": false,
   "toc_position": {},
   "toc_section_display": true,
   "toc_window_display": false
  }
 },
 "nbformat": 4,
 "nbformat_minor": 5
}
