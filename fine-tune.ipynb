{
 "cells": [
  {
   "cell_type": "code",
   "execution_count": 2,
   "id": "6e053ec0",
   "metadata": {
    "ExecuteTime": {
     "end_time": "2023-04-03T12:12:07.144267Z",
     "start_time": "2023-04-03T12:12:07.130260Z"
    }
   },
   "outputs": [
    {
     "name": "stdout",
     "output_type": "stream",
     "text": [
      "The tensorboard extension is already loaded. To reload it, use:\n",
      "  %reload_ext tensorboard\n"
     ]
    }
   ],
   "source": [
    "# !pip install TTS\n",
    "# !pip install trainer\n",
    "\n",
    "import torch \n",
    "%load_ext tensorboard\n",
    "\n",
    "import numpy as np\n",
    "import os\n",
    "\n",
    "import warnings\n",
    "warnings.filterwarnings('ignore')\n",
    "\n",
    "# from TTS.utils.downloaders import download_ljspeech\n",
    "# download_ljspeech(\"./dataset/ljspeech/\")"
   ]
  },
  {
   "cell_type": "code",
   "execution_count": null,
   "id": "6e3cdfdb",
   "metadata": {},
   "outputs": [],
   "source": [
    "!apt-get install espeak"
   ]
  },
  {
   "cell_type": "code",
   "execution_count": null,
   "id": "a9ba6141",
   "metadata": {},
   "outputs": [],
   "source": [
    "%tensorboard --logdir ./out/"
   ]
  },
  {
   "cell_type": "code",
   "execution_count": null,
   "id": "b1f67e6c",
   "metadata": {},
   "outputs": [],
   "source": [
    "!tts --model_name tts_models/en/ljspeech/vits \\\n",
    "      --text \"Speech synthesis, or text-to-speech, generates a speech waveform of the given text\""
   ]
  },
  {
   "cell_type": "code",
   "execution_count": 3,
   "id": "5e5e5717",
   "metadata": {
    "ExecuteTime": {
     "end_time": "2023-04-03T12:17:42.605469Z",
     "start_time": "2023-04-03T12:17:42.595465Z"
    }
   },
   "outputs": [],
   "source": [
    "model_path = \"out/vits_fine_tune.../best_model.pth\" \n",
    "config_path = 'out/vits_fine_tune.../config.json'\n",
    "pre_trained_model_path = '../root/.local/share/tts/tts_models--en--ljspeech--vits/model_file.pth'"
   ]
  },
  {
   "cell_type": "code",
   "execution_count": null,
   "id": "549a1312",
   "metadata": {},
   "outputs": [],
   "source": [
    "!CUDA_VISIBLE_DEVICES=\"0\" python train_vits.py --restore_path $pre_trained_model_path"
   ]
  },
  {
   "cell_type": "code",
   "execution_count": 10,
   "id": "b560860d",
   "metadata": {
    "ExecuteTime": {
     "end_time": "2023-04-03T12:20:47.225071Z",
     "start_time": "2023-04-03T12:20:47.210876Z"
    }
   },
   "outputs": [],
   "source": [
    "# pass rus text \n",
    "!tts --text \"Speech synthesis, or text-to-speech, generates a speech waveform of the given text\" \\\n",
    "     --model_path $model_path \\\n",
    "     --config_path $config_path \\\n",
    "     --out_path vits-tts.wav"
   ]
  },
  {
   "cell_type": "code",
   "execution_count": null,
   "id": "8728bc91",
   "metadata": {},
   "outputs": [],
   "source": []
  },
  {
   "cell_type": "code",
   "execution_count": null,
   "id": "db37b006",
   "metadata": {},
   "outputs": [],
   "source": []
  }
 ],
 "metadata": {
  "kernelspec": {
   "display_name": "Python 3 (ipykernel)",
   "language": "python",
   "name": "python3"
  },
  "language_info": {
   "codemirror_mode": {
    "name": "ipython",
    "version": 3
   },
   "file_extension": ".py",
   "mimetype": "text/x-python",
   "name": "python",
   "nbconvert_exporter": "python",
   "pygments_lexer": "ipython3",
   "version": "3.10.6"
  },
  "toc": {
   "base_numbering": 1,
   "nav_menu": {},
   "number_sections": true,
   "sideBar": true,
   "skip_h1_title": false,
   "title_cell": "Table of Contents",
   "title_sidebar": "Contents",
   "toc_cell": false,
   "toc_position": {},
   "toc_section_display": true,
   "toc_window_display": false
  }
 },
 "nbformat": 4,
 "nbformat_minor": 5
}
